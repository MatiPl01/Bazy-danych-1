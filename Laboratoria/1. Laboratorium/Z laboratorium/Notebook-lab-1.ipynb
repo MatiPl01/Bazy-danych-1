{
    "metadata": {
        "kernelspec": {
            "name": "SQL",
            "display_name": "SQL",
            "language": "sql"
        },
        "language_info": {
            "name": "sql",
            "version": ""
        },
        "extensions": {
            "azuredatastudio": {
                "version": 1,
                "views": []
            }
        }
    },
    "nbformat_minor": 2,
    "nbformat": 4,
    "cells": [
        {
            "cell_type": "markdown",
            "source": [
                "# Baza Northwind"
            ],
            "metadata": {
                "azdata_cell_guid": "bff3db05-0375-48a0-a6d3-7c8ce58cd40f"
            },
            "attachments": {}
        },
        {
            "cell_type": "code",
            "source": [
                "USE Northwind;"
            ],
            "metadata": {
                "azdata_cell_guid": "d232faa3-2082-404f-99c4-8f62538ba270"
            },
            "outputs": [
                {
                    "output_type": "display_data",
                    "data": {
                        "text/html": "Commands completed successfully."
                    },
                    "metadata": {}
                },
                {
                    "output_type": "display_data",
                    "data": {
                        "text/html": "Total execution time: 00:00:00.001"
                    },
                    "metadata": {}
                }
            ],
            "execution_count": 11
        },
        {
            "cell_type": "markdown",
            "source": [
                "## Ćwiczenie 1"
            ],
            "metadata": {
                "azdata_cell_guid": "17e6057f-de54-4b38-b66c-184a5eb2f45c"
            },
            "attachments": {}
        },
        {
            "cell_type": "markdown",
            "source": [
                "### 1\\. Wybierz nazwy i adresy wszystkich klientów"
            ],
            "metadata": {
                "azdata_cell_guid": "12fa11dd-8b17-465d-a401-896751a1ca84"
            },
            "attachments": {}
        },
        {
            "cell_type": "code",
            "source": [
                "SELECT ContactName, Address FROM Customers;"
            ],
            "metadata": {
                "azdata_cell_guid": "b28a6175-5524-431c-ac0a-adfd667242bf"
            },
            "outputs": [
                {
                    "output_type": "display_data",
                    "data": {
                        "text/html": "(91 rows affected)"
                    },
                    "metadata": {}
                },
                {
                    "output_type": "display_data",
                    "data": {
                        "text/html": "Total execution time: 00:00:00.004"
                    },
                    "metadata": {}
                },
                {
                    "output_type": "execute_result",
                    "metadata": {},
                    "execution_count": 12,
                    "data": {
                        "application/vnd.dataresource+json": {
                            "schema": {
                                "fields": [
                                    {
                                        "name": "ContactName"
                                    },
                                    {
                                        "name": "Address"
                                    }
                                ]
                            },
                            "data": [
                                {
                                    "0": "Maria Anders",
                                    "1": "Obere Str. 57"
                                },
                                {
                                    "0": "Ana Trujillo",
                                    "1": "Avda. de la Constitución 2222"
                                },
                                {
                                    "0": "Antonio Moreno",
                                    "1": "Mataderos  2312"
                                },
                                {
                                    "0": "Thomas Hardy",
                                    "1": "120 Hanover Sq."
                                },
                                {
                                    "0": "Christina Berglund",
                                    "1": "Berguvsvägen  8"
                                },
                                {
                                    "0": "Hanna Moos",
                                    "1": "Forsterstr. 57"
                                },
                                {
                                    "0": "Frédérique Citeaux",
                                    "1": "24, place Kléber"
                                },
                                {
                                    "0": "Martín Sommer",
                                    "1": "C/ Araquil, 67"
                                },
                                {
                                    "0": "Laurence Lebihan",
                                    "1": "12, rue des Bouchers"
                                },
                                {
                                    "0": "Elizabeth Lincoln",
                                    "1": "23 Tsawassen Blvd."
                                },
                                {
                                    "0": "Victoria Ashworth",
                                    "1": "Fauntleroy Circus"
                                },
                                {
                                    "0": "Patricio Simpson",
                                    "1": "Cerrito 333"
                                },
                                {
                                    "0": "Francisco Chang",
                                    "1": "Sierras de Granada 9993"
                                },
                                {
                                    "0": "Yang Wang",
                                    "1": "Hauptstr. 29"
                                },
                                {
                                    "0": "Pedro Afonso",
                                    "1": "Av. dos Lusíadas, 23"
                                },
                                {
                                    "0": "Elizabeth Brown",
                                    "1": "Berkeley Gardens 12  Brewery"
                                },
                                {
                                    "0": "Sven Ottlieb",
                                    "1": "Walserweg 21"
                                },
                                {
                                    "0": "Janine Labrune",
                                    "1": "67, rue des Cinquante Otages"
                                },
                                {
                                    "0": "Ann Devon",
                                    "1": "35 King George"
                                },
                                {
                                    "0": "Roland Mendel",
                                    "1": "Kirchgasse 6"
                                },
                                {
                                    "0": "Aria Cruz",
                                    "1": "Rua Orós, 92"
                                },
                                {
                                    "0": "Diego Roel",
                                    "1": "C/ Moralzarzal, 86"
                                },
                                {
                                    "0": "Martine Rancé",
                                    "1": "184, chaussée de Tournai"
                                },
                                {
                                    "0": "Maria Larsson",
                                    "1": "Åkergatan 24"
                                },
                                {
                                    "0": "Peter Franken",
                                    "1": "Berliner Platz 43"
                                },
                                {
                                    "0": "Carine Schmitt",
                                    "1": "54, rue Royale"
                                },
                                {
                                    "0": "Paolo Accorti",
                                    "1": "Via Monte Bianco 34"
                                },
                                {
                                    "0": "Lino Rodriguez",
                                    "1": "Jardim das rosas n. 32"
                                },
                                {
                                    "0": "Eduardo Saavedra",
                                    "1": "Rambla de Cataluña, 23"
                                },
                                {
                                    "0": "José Pedro Freyre",
                                    "1": "C/ Romero, 33"
                                },
                                {
                                    "0": "André Fonseca",
                                    "1": "Av. Brasil, 442"
                                },
                                {
                                    "0": "Howard Snyder",
                                    "1": "2732 Baker Blvd."
                                },
                                {
                                    "0": "Manuel Pereira",
                                    "1": "5ª Ave. Los Palos Grandes"
                                },
                                {
                                    "0": "Mario Pontes",
                                    "1": "Rua do Paço, 67"
                                },
                                {
                                    "0": "Carlos Hernández",
                                    "1": "Carrera 22 con Ave. Carlos Soublette #8-35"
                                },
                                {
                                    "0": "Yoshi Latimer",
                                    "1": "City Center Plaza 516 Main St."
                                },
                                {
                                    "0": "Patricia McKenna",
                                    "1": "8 Johnstown Road"
                                },
                                {
                                    "0": "Helen Bennett",
                                    "1": "Garden House Crowther Way"
                                },
                                {
                                    "0": "Philip Cramer",
                                    "1": "Maubelstr. 90"
                                },
                                {
                                    "0": "Daniel Tonini",
                                    "1": "67, avenue de l'Europe"
                                },
                                {
                                    "0": "Annette Roulet",
                                    "1": "1 rue Alsace-Lorraine"
                                },
                                {
                                    "0": "Yoshi Tannamuri",
                                    "1": "1900 Oak St."
                                },
                                {
                                    "0": "John Steel",
                                    "1": "12 Orchestra Terrace"
                                },
                                {
                                    "0": "Renate Messner",
                                    "1": "Magazinweg 7"
                                },
                                {
                                    "0": "Jaime Yorres",
                                    "1": "87 Polk St. Suite 5"
                                },
                                {
                                    "0": "Carlos González",
                                    "1": "Carrera 52 con Ave. Bolívar #65-98 Llano Largo"
                                },
                                {
                                    "0": "Felipe Izquierdo",
                                    "1": "Ave. 5 de Mayo Porlamar"
                                },
                                {
                                    "0": "Fran Wilson",
                                    "1": "89 Chiaroscuro Rd."
                                },
                                {
                                    "0": "Giovanni Rovelli",
                                    "1": "Via Ludovico il Moro 22"
                                },
                                {
                                    "0": "Catherine Dewey",
                                    "1": "Rue Joseph-Bens 532"
                                },
                                {
                                    "0": "Jean Fresnière",
                                    "1": "43 rue St. Laurent"
                                },
                                {
                                    "0": "Alexander Feuer",
                                    "1": "Heerstr. 22"
                                },
                                {
                                    "0": "Simon Crowther",
                                    "1": "South House 300 Queensbridge"
                                },
                                {
                                    "0": "Yvonne Moncada",
                                    "1": "Ing. Gustavo Moncada 8585 Piso 20-A"
                                },
                                {
                                    "0": "Rene Phillips",
                                    "1": "2743 Bering St."
                                },
                                {
                                    "0": "Henriette Pfalzheim",
                                    "1": "Mehrheimerstr. 369"
                                },
                                {
                                    "0": "Marie Bertrand",
                                    "1": "265, boulevard Charonne"
                                },
                                {
                                    "0": "Guillermo Fernández",
                                    "1": "Calle Dr. Jorge Cash 321"
                                },
                                {
                                    "0": "Georg Pipps",
                                    "1": "Geislweg 14"
                                },
                                {
                                    "0": "Isabel de Castro",
                                    "1": "Estrada da saúde n. 58"
                                },
                                {
                                    "0": "Bernardo Batista",
                                    "1": "Rua da Panificadora, 12"
                                },
                                {
                                    "0": "Lúcia Carvalho",
                                    "1": "Alameda dos Canàrios, 891"
                                },
                                {
                                    "0": "Horst Kloss",
                                    "1": "Taucherstraße 10"
                                },
                                {
                                    "0": "Sergio Gutiérrez",
                                    "1": "Av. del Libertador 900"
                                },
                                {
                                    "0": "Paula Wilson",
                                    "1": "2817 Milton Dr."
                                },
                                {
                                    "0": "Maurizio Moroni",
                                    "1": "Strada Provinciale 124"
                                },
                                {
                                    "0": "Janete Limeira",
                                    "1": "Av. Copacabana, 267"
                                },
                                {
                                    "0": "Michael Holz",
                                    "1": "Grenzacherweg 237"
                                },
                                {
                                    "0": "Alejandra Camino",
                                    "1": "Gran Vía, 1"
                                },
                                {
                                    "0": "Jonas Bergulfsen",
                                    "1": "Erling Skakkes gate 78"
                                },
                                {
                                    "0": "Jose Pavarotti",
                                    "1": "187 Suffolk Ln."
                                },
                                {
                                    "0": "Hari Kumar",
                                    "1": "90 Wadhurst Rd."
                                },
                                {
                                    "0": "Jytte Petersen",
                                    "1": "Vinbæltet 34"
                                },
                                {
                                    "0": "Dominique Perrier",
                                    "1": "25, rue Lauriston"
                                },
                                {
                                    "0": "Art Braunschweiger",
                                    "1": "P.O. Box 555"
                                },
                                {
                                    "0": "Pascale Cartrain",
                                    "1": "Boulevard Tirou, 255"
                                },
                                {
                                    "0": "Liz Nixon",
                                    "1": "89 Jefferson Way Suite 2"
                                },
                                {
                                    "0": "Liu Wong",
                                    "1": "55 Grizzly Peak Rd."
                                },
                                {
                                    "0": "Karin Josephs",
                                    "1": "Luisenstr. 48"
                                },
                                {
                                    "0": "Miguel Angel Paolino",
                                    "1": "Avda. Azteca 123"
                                },
                                {
                                    "0": "Anabela Domingues",
                                    "1": "Av. Inês de Castro, 414"
                                },
                                {
                                    "0": "Helvetius Nagy",
                                    "1": "722 DaVinci Blvd."
                                },
                                {
                                    "0": "Palle Ibsen",
                                    "1": "Smagsloget 45"
                                },
                                {
                                    "0": "Mary Saveley",
                                    "1": "2, rue du Commerce"
                                },
                                {
                                    "0": "Paul Henriot",
                                    "1": "59 rue de l'Abbaye"
                                },
                                {
                                    "0": "Rita Müller",
                                    "1": "Adenauerallee 900"
                                },
                                {
                                    "0": "Pirkko Koskitalo",
                                    "1": "Torikatu 38"
                                },
                                {
                                    "0": "Paula Parente",
                                    "1": "Rua do Mercado, 12"
                                },
                                {
                                    "0": "Karl Jablonski",
                                    "1": "305 - 14th Ave. S. Suite 3B"
                                },
                                {
                                    "0": "Matti Karttunen",
                                    "1": "Keskuskatu 45"
                                },
                                {
                                    "0": "Zbyszek Piestrzeniewicz",
                                    "1": "ul. Filtrowa 68"
                                }
                            ]
                        },
                        "text/html": [
                            "<table>",
                            "<tr><th>ContactName</th><th>Address</th></tr>",
                            "<tr><td>Maria Anders</td><td>Obere Str. 57</td></tr>",
                            "<tr><td>Ana Trujillo</td><td>Avda. de la Constitución 2222</td></tr>",
                            "<tr><td>Antonio Moreno</td><td>Mataderos  2312</td></tr>",
                            "<tr><td>Thomas Hardy</td><td>120 Hanover Sq.</td></tr>",
                            "<tr><td>Christina Berglund</td><td>Berguvsvägen  8</td></tr>",
                            "<tr><td>Hanna Moos</td><td>Forsterstr. 57</td></tr>",
                            "<tr><td>Frédérique Citeaux</td><td>24, place Kléber</td></tr>",
                            "<tr><td>Martín Sommer</td><td>C/ Araquil, 67</td></tr>",
                            "<tr><td>Laurence Lebihan</td><td>12, rue des Bouchers</td></tr>",
                            "<tr><td>Elizabeth Lincoln</td><td>23 Tsawassen Blvd.</td></tr>",
                            "<tr><td>Victoria Ashworth</td><td>Fauntleroy Circus</td></tr>",
                            "<tr><td>Patricio Simpson</td><td>Cerrito 333</td></tr>",
                            "<tr><td>Francisco Chang</td><td>Sierras de Granada 9993</td></tr>",
                            "<tr><td>Yang Wang</td><td>Hauptstr. 29</td></tr>",
                            "<tr><td>Pedro Afonso</td><td>Av. dos Lusíadas, 23</td></tr>",
                            "<tr><td>Elizabeth Brown</td><td>Berkeley Gardens 12  Brewery</td></tr>",
                            "<tr><td>Sven Ottlieb</td><td>Walserweg 21</td></tr>",
                            "<tr><td>Janine Labrune</td><td>67, rue des Cinquante Otages</td></tr>",
                            "<tr><td>Ann Devon</td><td>35 King George</td></tr>",
                            "<tr><td>Roland Mendel</td><td>Kirchgasse 6</td></tr>",
                            "<tr><td>Aria Cruz</td><td>Rua Orós, 92</td></tr>",
                            "<tr><td>Diego Roel</td><td>C/ Moralzarzal, 86</td></tr>",
                            "<tr><td>Martine Rancé</td><td>184, chaussée de Tournai</td></tr>",
                            "<tr><td>Maria Larsson</td><td>Åkergatan 24</td></tr>",
                            "<tr><td>Peter Franken</td><td>Berliner Platz 43</td></tr>",
                            "<tr><td>Carine Schmitt</td><td>54, rue Royale</td></tr>",
                            "<tr><td>Paolo Accorti</td><td>Via Monte Bianco 34</td></tr>",
                            "<tr><td>Lino Rodriguez</td><td>Jardim das rosas n. 32</td></tr>",
                            "<tr><td>Eduardo Saavedra</td><td>Rambla de Cataluña, 23</td></tr>",
                            "<tr><td>José Pedro Freyre</td><td>C/ Romero, 33</td></tr>",
                            "<tr><td>André Fonseca</td><td>Av. Brasil, 442</td></tr>",
                            "<tr><td>Howard Snyder</td><td>2732 Baker Blvd.</td></tr>",
                            "<tr><td>Manuel Pereira</td><td>5ª Ave. Los Palos Grandes</td></tr>",
                            "<tr><td>Mario Pontes</td><td>Rua do Paço, 67</td></tr>",
                            "<tr><td>Carlos Hernández</td><td>Carrera 22 con Ave. Carlos Soublette #8-35</td></tr>",
                            "<tr><td>Yoshi Latimer</td><td>City Center Plaza 516 Main St.</td></tr>",
                            "<tr><td>Patricia McKenna</td><td>8 Johnstown Road</td></tr>",
                            "<tr><td>Helen Bennett</td><td>Garden House Crowther Way</td></tr>",
                            "<tr><td>Philip Cramer</td><td>Maubelstr. 90</td></tr>",
                            "<tr><td>Daniel Tonini</td><td>67, avenue de l'Europe</td></tr>",
                            "<tr><td>Annette Roulet</td><td>1 rue Alsace-Lorraine</td></tr>",
                            "<tr><td>Yoshi Tannamuri</td><td>1900 Oak St.</td></tr>",
                            "<tr><td>John Steel</td><td>12 Orchestra Terrace</td></tr>",
                            "<tr><td>Renate Messner</td><td>Magazinweg 7</td></tr>",
                            "<tr><td>Jaime Yorres</td><td>87 Polk St. Suite 5</td></tr>",
                            "<tr><td>Carlos González</td><td>Carrera 52 con Ave. Bolívar #65-98 Llano Largo</td></tr>",
                            "<tr><td>Felipe Izquierdo</td><td>Ave. 5 de Mayo Porlamar</td></tr>",
                            "<tr><td>Fran Wilson</td><td>89 Chiaroscuro Rd.</td></tr>",
                            "<tr><td>Giovanni Rovelli</td><td>Via Ludovico il Moro 22</td></tr>",
                            "<tr><td>Catherine Dewey</td><td>Rue Joseph-Bens 532</td></tr>",
                            "<tr><td>Jean Fresnière</td><td>43 rue St. Laurent</td></tr>",
                            "<tr><td>Alexander Feuer</td><td>Heerstr. 22</td></tr>",
                            "<tr><td>Simon Crowther</td><td>South House 300 Queensbridge</td></tr>",
                            "<tr><td>Yvonne Moncada</td><td>Ing. Gustavo Moncada 8585 Piso 20-A</td></tr>",
                            "<tr><td>Rene Phillips</td><td>2743 Bering St.</td></tr>",
                            "<tr><td>Henriette Pfalzheim</td><td>Mehrheimerstr. 369</td></tr>",
                            "<tr><td>Marie Bertrand</td><td>265, boulevard Charonne</td></tr>",
                            "<tr><td>Guillermo Fernández</td><td>Calle Dr. Jorge Cash 321</td></tr>",
                            "<tr><td>Georg Pipps</td><td>Geislweg 14</td></tr>",
                            "<tr><td>Isabel de Castro</td><td>Estrada da saúde n. 58</td></tr>",
                            "<tr><td>Bernardo Batista</td><td>Rua da Panificadora, 12</td></tr>",
                            "<tr><td>Lúcia Carvalho</td><td>Alameda dos Canàrios, 891</td></tr>",
                            "<tr><td>Horst Kloss</td><td>Taucherstraße 10</td></tr>",
                            "<tr><td>Sergio Gutiérrez</td><td>Av. del Libertador 900</td></tr>",
                            "<tr><td>Paula Wilson</td><td>2817 Milton Dr.</td></tr>",
                            "<tr><td>Maurizio Moroni</td><td>Strada Provinciale 124</td></tr>",
                            "<tr><td>Janete Limeira</td><td>Av. Copacabana, 267</td></tr>",
                            "<tr><td>Michael Holz</td><td>Grenzacherweg 237</td></tr>",
                            "<tr><td>Alejandra Camino</td><td>Gran Vía, 1</td></tr>",
                            "<tr><td>Jonas Bergulfsen</td><td>Erling Skakkes gate 78</td></tr>",
                            "<tr><td>Jose Pavarotti</td><td>187 Suffolk Ln.</td></tr>",
                            "<tr><td>Hari Kumar</td><td>90 Wadhurst Rd.</td></tr>",
                            "<tr><td>Jytte Petersen</td><td>Vinbæltet 34</td></tr>",
                            "<tr><td>Dominique Perrier</td><td>25, rue Lauriston</td></tr>",
                            "<tr><td>Art Braunschweiger</td><td>P.O. Box 555</td></tr>",
                            "<tr><td>Pascale Cartrain</td><td>Boulevard Tirou, 255</td></tr>",
                            "<tr><td>Liz Nixon</td><td>89 Jefferson Way Suite 2</td></tr>",
                            "<tr><td>Liu Wong</td><td>55 Grizzly Peak Rd.</td></tr>",
                            "<tr><td>Karin Josephs</td><td>Luisenstr. 48</td></tr>",
                            "<tr><td>Miguel Angel Paolino</td><td>Avda. Azteca 123</td></tr>",
                            "<tr><td>Anabela Domingues</td><td>Av. Inês de Castro, 414</td></tr>",
                            "<tr><td>Helvetius Nagy</td><td>722 DaVinci Blvd.</td></tr>",
                            "<tr><td>Palle Ibsen</td><td>Smagsloget 45</td></tr>",
                            "<tr><td>Mary Saveley</td><td>2, rue du Commerce</td></tr>",
                            "<tr><td>Paul Henriot</td><td>59 rue de l'Abbaye</td></tr>",
                            "<tr><td>Rita Müller</td><td>Adenauerallee 900</td></tr>",
                            "<tr><td>Pirkko Koskitalo</td><td>Torikatu 38</td></tr>",
                            "<tr><td>Paula Parente</td><td>Rua do Mercado, 12</td></tr>",
                            "<tr><td>Karl Jablonski</td><td>305 - 14th Ave. S. Suite 3B</td></tr>",
                            "<tr><td>Matti Karttunen</td><td>Keskuskatu 45</td></tr>",
                            "<tr><td>Zbyszek Piestrzeniewicz</td><td>ul. Filtrowa 68</td></tr>",
                            "</table>"
                        ]
                    }
                }
            ],
            "execution_count": 12
        },
        {
            "cell_type": "markdown",
            "source": [
                "2. Wybierz nazwiska i numery telefonów pracowników"
            ],
            "metadata": {
                "azdata_cell_guid": "e215f6f5-9356-4ec9-8ec7-a6c0c441c3ab"
            },
            "attachments": {}
        },
        {
            "cell_type": "code",
            "source": [
                "SELECT LastName, HomePhone FROM Employees;"
            ],
            "metadata": {
                "azdata_cell_guid": "88feff44-5c24-497a-b747-4fafcfc0a293",
                "tags": []
            },
            "outputs": [
                {
                    "output_type": "display_data",
                    "data": {
                        "text/html": "(9 rows affected)"
                    },
                    "metadata": {}
                },
                {
                    "output_type": "display_data",
                    "data": {
                        "text/html": "Total execution time: 00:00:00.002"
                    },
                    "metadata": {}
                },
                {
                    "output_type": "execute_result",
                    "metadata": {},
                    "execution_count": 13,
                    "data": {
                        "application/vnd.dataresource+json": {
                            "schema": {
                                "fields": [
                                    {
                                        "name": "LastName"
                                    },
                                    {
                                        "name": "HomePhone"
                                    }
                                ]
                            },
                            "data": [
                                {
                                    "0": "Davolio",
                                    "1": "(206) 555-9857"
                                },
                                {
                                    "0": "Fuller",
                                    "1": "(206) 555-9482"
                                },
                                {
                                    "0": "Leverling",
                                    "1": "(206) 555-3412"
                                },
                                {
                                    "0": "Peacock",
                                    "1": "(206) 555-8122"
                                },
                                {
                                    "0": "Buchanan",
                                    "1": "(71) 555-4848"
                                },
                                {
                                    "0": "Suyama",
                                    "1": "(71) 555-7773"
                                },
                                {
                                    "0": "King",
                                    "1": "(71) 555-5598"
                                },
                                {
                                    "0": "Callahan",
                                    "1": "(206) 555-1189"
                                },
                                {
                                    "0": "Dodsworth",
                                    "1": "(71) 555-4444"
                                }
                            ]
                        },
                        "text/html": [
                            "<table>",
                            "<tr><th>LastName</th><th>HomePhone</th></tr>",
                            "<tr><td>Davolio</td><td>(206) 555-9857</td></tr>",
                            "<tr><td>Fuller</td><td>(206) 555-9482</td></tr>",
                            "<tr><td>Leverling</td><td>(206) 555-3412</td></tr>",
                            "<tr><td>Peacock</td><td>(206) 555-8122</td></tr>",
                            "<tr><td>Buchanan</td><td>(71) 555-4848</td></tr>",
                            "<tr><td>Suyama</td><td>(71) 555-7773</td></tr>",
                            "<tr><td>King</td><td>(71) 555-5598</td></tr>",
                            "<tr><td>Callahan</td><td>(206) 555-1189</td></tr>",
                            "<tr><td>Dodsworth</td><td>(71) 555-4444</td></tr>",
                            "</table>"
                        ]
                    }
                }
            ],
            "execution_count": 13
        },
        {
            "cell_type": "markdown",
            "source": [
                "3. Wybierz nazwy i ceny produktów"
            ],
            "metadata": {
                "azdata_cell_guid": "fcadc17e-677f-4051-9289-c78d1bdbc3c9"
            },
            "attachments": {}
        },
        {
            "cell_type": "code",
            "source": [
                "SELECT ProductName, UnitPrice FROM Products;"
            ],
            "metadata": {
                "azdata_cell_guid": "ce123f50-3720-48ab-a20f-3ad89888eb0e"
            },
            "outputs": [
                {
                    "output_type": "display_data",
                    "data": {
                        "text/html": "(77 rows affected)"
                    },
                    "metadata": {}
                },
                {
                    "output_type": "display_data",
                    "data": {
                        "text/html": "Total execution time: 00:00:00.003"
                    },
                    "metadata": {}
                },
                {
                    "output_type": "execute_result",
                    "metadata": {},
                    "execution_count": 14,
                    "data": {
                        "application/vnd.dataresource+json": {
                            "schema": {
                                "fields": [
                                    {
                                        "name": "ProductName"
                                    },
                                    {
                                        "name": "UnitPrice"
                                    }
                                ]
                            },
                            "data": [
                                {
                                    "0": "Chai",
                                    "1": "18.0000"
                                },
                                {
                                    "0": "Chang",
                                    "1": "19.0000"
                                },
                                {
                                    "0": "Aniseed Syrup",
                                    "1": "10.0000"
                                },
                                {
                                    "0": "Chef Anton's Cajun Seasoning",
                                    "1": "22.0000"
                                },
                                {
                                    "0": "Chef Anton's Gumbo Mix",
                                    "1": "21.3500"
                                },
                                {
                                    "0": "Grandma's Boysenberry Spread",
                                    "1": "25.0000"
                                },
                                {
                                    "0": "Uncle Bob's Organic Dried Pears",
                                    "1": "30.0000"
                                },
                                {
                                    "0": "Northwoods Cranberry Sauce",
                                    "1": "40.0000"
                                },
                                {
                                    "0": "Mishi Kobe Niku",
                                    "1": "97.0000"
                                },
                                {
                                    "0": "Ikura",
                                    "1": "31.0000"
                                },
                                {
                                    "0": "Queso Cabrales",
                                    "1": "21.0000"
                                },
                                {
                                    "0": "Queso Manchego La Pastora",
                                    "1": "38.0000"
                                },
                                {
                                    "0": "Konbu",
                                    "1": "6.0000"
                                },
                                {
                                    "0": "Tofu",
                                    "1": "23.2500"
                                },
                                {
                                    "0": "Genen Shouyu",
                                    "1": "15.5000"
                                },
                                {
                                    "0": "Pavlova",
                                    "1": "17.4500"
                                },
                                {
                                    "0": "Alice Mutton",
                                    "1": "39.0000"
                                },
                                {
                                    "0": "Carnarvon Tigers",
                                    "1": "62.5000"
                                },
                                {
                                    "0": "Teatime Chocolate Biscuits",
                                    "1": "9.2000"
                                },
                                {
                                    "0": "Sir Rodney's Marmalade",
                                    "1": "81.0000"
                                },
                                {
                                    "0": "Sir Rodney's Scones",
                                    "1": "10.0000"
                                },
                                {
                                    "0": "Gustaf's Knäckebröd",
                                    "1": "21.0000"
                                },
                                {
                                    "0": "Tunnbröd",
                                    "1": "9.0000"
                                },
                                {
                                    "0": "Guaraná Fantástica",
                                    "1": "4.5000"
                                },
                                {
                                    "0": "NuNuCa Nuß-Nougat-Creme",
                                    "1": "14.0000"
                                },
                                {
                                    "0": "Gumbär Gummibärchen",
                                    "1": "31.2300"
                                },
                                {
                                    "0": "Schoggi Schokolade",
                                    "1": "43.9000"
                                },
                                {
                                    "0": "Rössle Sauerkraut",
                                    "1": "45.6000"
                                },
                                {
                                    "0": "Thüringer Rostbratwurst",
                                    "1": "123.7900"
                                },
                                {
                                    "0": "Nord-Ost Matjeshering",
                                    "1": "25.8900"
                                },
                                {
                                    "0": "Gorgonzola Telino",
                                    "1": "12.5000"
                                },
                                {
                                    "0": "Mascarpone Fabioli",
                                    "1": "32.0000"
                                },
                                {
                                    "0": "Geitost",
                                    "1": "2.5000"
                                },
                                {
                                    "0": "Sasquatch Ale",
                                    "1": "14.0000"
                                },
                                {
                                    "0": "Steeleye Stout",
                                    "1": "18.0000"
                                },
                                {
                                    "0": "Inlagd Sill",
                                    "1": "19.0000"
                                },
                                {
                                    "0": "Gravad lax",
                                    "1": "26.0000"
                                },
                                {
                                    "0": "Côte de Blaye",
                                    "1": "263.5000"
                                },
                                {
                                    "0": "Chartreuse verte",
                                    "1": "18.0000"
                                },
                                {
                                    "0": "Boston Crab Meat",
                                    "1": "18.4000"
                                },
                                {
                                    "0": "Jack's New England Clam Chowder",
                                    "1": "9.6500"
                                },
                                {
                                    "0": "Singaporean Hokkien Fried Mee",
                                    "1": "14.0000"
                                },
                                {
                                    "0": "Ipoh Coffee",
                                    "1": "46.0000"
                                },
                                {
                                    "0": "Gula Malacca",
                                    "1": "19.4500"
                                },
                                {
                                    "0": "Rogede sild",
                                    "1": "9.5000"
                                },
                                {
                                    "0": "Spegesild",
                                    "1": "12.0000"
                                },
                                {
                                    "0": "Zaanse koeken",
                                    "1": "9.5000"
                                },
                                {
                                    "0": "Chocolade",
                                    "1": "12.7500"
                                },
                                {
                                    "0": "Maxilaku",
                                    "1": "20.0000"
                                },
                                {
                                    "0": "Valkoinen suklaa",
                                    "1": "16.2500"
                                },
                                {
                                    "0": "Manjimup Dried Apples",
                                    "1": "53.0000"
                                },
                                {
                                    "0": "Filo Mix",
                                    "1": "7.0000"
                                },
                                {
                                    "0": "Perth Pasties",
                                    "1": "32.8000"
                                },
                                {
                                    "0": "Tourtière",
                                    "1": "7.4500"
                                },
                                {
                                    "0": "Pâté chinois",
                                    "1": "24.0000"
                                },
                                {
                                    "0": "Gnocchi di nonna Alice",
                                    "1": "38.0000"
                                },
                                {
                                    "0": "Ravioli Angelo",
                                    "1": "19.5000"
                                },
                                {
                                    "0": "Escargots de Bourgogne",
                                    "1": "13.2500"
                                },
                                {
                                    "0": "Raclette Courdavault",
                                    "1": "55.0000"
                                },
                                {
                                    "0": "Camembert Pierrot",
                                    "1": "34.0000"
                                },
                                {
                                    "0": "Sirop d'érable",
                                    "1": "28.5000"
                                },
                                {
                                    "0": "Tarte au sucre",
                                    "1": "49.3000"
                                },
                                {
                                    "0": "Vegie-spread",
                                    "1": "43.9000"
                                },
                                {
                                    "0": "Wimmers gute Semmelknödel",
                                    "1": "33.2500"
                                },
                                {
                                    "0": "Louisiana Fiery Hot Pepper Sauce",
                                    "1": "21.0500"
                                },
                                {
                                    "0": "Louisiana Hot Spiced Okra",
                                    "1": "17.0000"
                                },
                                {
                                    "0": "Laughing Lumberjack Lager",
                                    "1": "14.0000"
                                },
                                {
                                    "0": "Scottish Longbreads",
                                    "1": "12.5000"
                                },
                                {
                                    "0": "Gudbrandsdalsost",
                                    "1": "36.0000"
                                },
                                {
                                    "0": "Outback Lager",
                                    "1": "15.0000"
                                },
                                {
                                    "0": "Flotemysost",
                                    "1": "21.5000"
                                },
                                {
                                    "0": "Mozzarella di Giovanni",
                                    "1": "34.8000"
                                },
                                {
                                    "0": "Röd Kaviar",
                                    "1": "15.0000"
                                },
                                {
                                    "0": "Longlife Tofu",
                                    "1": "10.0000"
                                },
                                {
                                    "0": "Rhönbräu Klosterbier",
                                    "1": "7.7500"
                                },
                                {
                                    "0": "Lakkalikööri",
                                    "1": "18.0000"
                                },
                                {
                                    "0": "Original Frankfurter grüne Soße",
                                    "1": "13.0000"
                                }
                            ]
                        },
                        "text/html": [
                            "<table>",
                            "<tr><th>ProductName</th><th>UnitPrice</th></tr>",
                            "<tr><td>Chai</td><td>18.0000</td></tr>",
                            "<tr><td>Chang</td><td>19.0000</td></tr>",
                            "<tr><td>Aniseed Syrup</td><td>10.0000</td></tr>",
                            "<tr><td>Chef Anton's Cajun Seasoning</td><td>22.0000</td></tr>",
                            "<tr><td>Chef Anton's Gumbo Mix</td><td>21.3500</td></tr>",
                            "<tr><td>Grandma's Boysenberry Spread</td><td>25.0000</td></tr>",
                            "<tr><td>Uncle Bob's Organic Dried Pears</td><td>30.0000</td></tr>",
                            "<tr><td>Northwoods Cranberry Sauce</td><td>40.0000</td></tr>",
                            "<tr><td>Mishi Kobe Niku</td><td>97.0000</td></tr>",
                            "<tr><td>Ikura</td><td>31.0000</td></tr>",
                            "<tr><td>Queso Cabrales</td><td>21.0000</td></tr>",
                            "<tr><td>Queso Manchego La Pastora</td><td>38.0000</td></tr>",
                            "<tr><td>Konbu</td><td>6.0000</td></tr>",
                            "<tr><td>Tofu</td><td>23.2500</td></tr>",
                            "<tr><td>Genen Shouyu</td><td>15.5000</td></tr>",
                            "<tr><td>Pavlova</td><td>17.4500</td></tr>",
                            "<tr><td>Alice Mutton</td><td>39.0000</td></tr>",
                            "<tr><td>Carnarvon Tigers</td><td>62.5000</td></tr>",
                            "<tr><td>Teatime Chocolate Biscuits</td><td>9.2000</td></tr>",
                            "<tr><td>Sir Rodney's Marmalade</td><td>81.0000</td></tr>",
                            "<tr><td>Sir Rodney's Scones</td><td>10.0000</td></tr>",
                            "<tr><td>Gustaf's Knäckebröd</td><td>21.0000</td></tr>",
                            "<tr><td>Tunnbröd</td><td>9.0000</td></tr>",
                            "<tr><td>Guaraná Fantástica</td><td>4.5000</td></tr>",
                            "<tr><td>NuNuCa Nuß-Nougat-Creme</td><td>14.0000</td></tr>",
                            "<tr><td>Gumbär Gummibärchen</td><td>31.2300</td></tr>",
                            "<tr><td>Schoggi Schokolade</td><td>43.9000</td></tr>",
                            "<tr><td>Rössle Sauerkraut</td><td>45.6000</td></tr>",
                            "<tr><td>Thüringer Rostbratwurst</td><td>123.7900</td></tr>",
                            "<tr><td>Nord-Ost Matjeshering</td><td>25.8900</td></tr>",
                            "<tr><td>Gorgonzola Telino</td><td>12.5000</td></tr>",
                            "<tr><td>Mascarpone Fabioli</td><td>32.0000</td></tr>",
                            "<tr><td>Geitost</td><td>2.5000</td></tr>",
                            "<tr><td>Sasquatch Ale</td><td>14.0000</td></tr>",
                            "<tr><td>Steeleye Stout</td><td>18.0000</td></tr>",
                            "<tr><td>Inlagd Sill</td><td>19.0000</td></tr>",
                            "<tr><td>Gravad lax</td><td>26.0000</td></tr>",
                            "<tr><td>Côte de Blaye</td><td>263.5000</td></tr>",
                            "<tr><td>Chartreuse verte</td><td>18.0000</td></tr>",
                            "<tr><td>Boston Crab Meat</td><td>18.4000</td></tr>",
                            "<tr><td>Jack's New England Clam Chowder</td><td>9.6500</td></tr>",
                            "<tr><td>Singaporean Hokkien Fried Mee</td><td>14.0000</td></tr>",
                            "<tr><td>Ipoh Coffee</td><td>46.0000</td></tr>",
                            "<tr><td>Gula Malacca</td><td>19.4500</td></tr>",
                            "<tr><td>Rogede sild</td><td>9.5000</td></tr>",
                            "<tr><td>Spegesild</td><td>12.0000</td></tr>",
                            "<tr><td>Zaanse koeken</td><td>9.5000</td></tr>",
                            "<tr><td>Chocolade</td><td>12.7500</td></tr>",
                            "<tr><td>Maxilaku</td><td>20.0000</td></tr>",
                            "<tr><td>Valkoinen suklaa</td><td>16.2500</td></tr>",
                            "<tr><td>Manjimup Dried Apples</td><td>53.0000</td></tr>",
                            "<tr><td>Filo Mix</td><td>7.0000</td></tr>",
                            "<tr><td>Perth Pasties</td><td>32.8000</td></tr>",
                            "<tr><td>Tourtière</td><td>7.4500</td></tr>",
                            "<tr><td>Pâté chinois</td><td>24.0000</td></tr>",
                            "<tr><td>Gnocchi di nonna Alice</td><td>38.0000</td></tr>",
                            "<tr><td>Ravioli Angelo</td><td>19.5000</td></tr>",
                            "<tr><td>Escargots de Bourgogne</td><td>13.2500</td></tr>",
                            "<tr><td>Raclette Courdavault</td><td>55.0000</td></tr>",
                            "<tr><td>Camembert Pierrot</td><td>34.0000</td></tr>",
                            "<tr><td>Sirop d'érable</td><td>28.5000</td></tr>",
                            "<tr><td>Tarte au sucre</td><td>49.3000</td></tr>",
                            "<tr><td>Vegie-spread</td><td>43.9000</td></tr>",
                            "<tr><td>Wimmers gute Semmelknödel</td><td>33.2500</td></tr>",
                            "<tr><td>Louisiana Fiery Hot Pepper Sauce</td><td>21.0500</td></tr>",
                            "<tr><td>Louisiana Hot Spiced Okra</td><td>17.0000</td></tr>",
                            "<tr><td>Laughing Lumberjack Lager</td><td>14.0000</td></tr>",
                            "<tr><td>Scottish Longbreads</td><td>12.5000</td></tr>",
                            "<tr><td>Gudbrandsdalsost</td><td>36.0000</td></tr>",
                            "<tr><td>Outback Lager</td><td>15.0000</td></tr>",
                            "<tr><td>Flotemysost</td><td>21.5000</td></tr>",
                            "<tr><td>Mozzarella di Giovanni</td><td>34.8000</td></tr>",
                            "<tr><td>Röd Kaviar</td><td>15.0000</td></tr>",
                            "<tr><td>Longlife Tofu</td><td>10.0000</td></tr>",
                            "<tr><td>Rhönbräu Klosterbier</td><td>7.7500</td></tr>",
                            "<tr><td>Lakkalikööri</td><td>18.0000</td></tr>",
                            "<tr><td>Original Frankfurter grüne Soße</td><td>13.0000</td></tr>",
                            "</table>"
                        ]
                    }
                }
            ],
            "execution_count": 14
        }
    ]
}